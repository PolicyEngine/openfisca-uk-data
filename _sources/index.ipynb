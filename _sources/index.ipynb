{
 "cells": [
  {
   "cell_type": "markdown",
   "metadata": {},
   "source": [
    "# OpenFisca-UK-Data\n",
    "\n",
    "This package generates microdata inputs for OpenFisca-UK, from the Family Resources Survey, the Wealth and Assets Survey, and the Living Costs and Food Survey. Additional imputations for land value and carbon footprints are made using the ONS' National Balance Sheet and the National Carbon Footprint Study."
   ]
  }
 ],
 "metadata": {
  "kernelspec": {
   "display_name": "Python 3",
   "language": "python",
   "name": "python3"
  },
  "language_info": {
   "codemirror_mode": {
    "name": "ipython",
    "version": 3
   },
   "file_extension": ".py",
   "mimetype": "text/x-python",
   "name": "python",
   "nbconvert_exporter": "python",
   "pygments_lexer": "ipython3",
   "version": "3.8.8"
  }
 },
 "nbformat": 4,
 "nbformat_minor": 4
}
